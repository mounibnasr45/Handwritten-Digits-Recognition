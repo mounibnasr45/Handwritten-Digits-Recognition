{
 "cells": [
  {
   "cell_type": "code",
   "execution_count": 2,
   "id": "b0e7717b",
   "metadata": {},
   "outputs": [],
   "source": [
    "import tensorflow as tf\n",
    "from tensorflow.keras.preprocessing.image import ImageDataGenerator\n",
    "from tensorflow.keras.models import Sequential\n",
    "from tensorflow.keras.layers import Dense, Flatten, Conv2D, MaxPooling2D\n",
    "import matplotlib.pyplot as plt\n",
    "from sklearn.metrics import classification_report\n",
    "\n",
    "# Check TensorFlow version\n",
    "\n"
   ]
  },
  {
   "cell_type": "code",
   "execution_count": 3,
   "id": "7d651aa2",
   "metadata": {},
   "outputs": [],
   "source": [
    "# Define data augmentation\n",
    "datagen = ImageDataGenerator(\n",
    "    rotation_range=40,\n",
    "    width_shift_range=0.2,\n",
    "    height_shift_range=0.2,\n",
    "    shear_range=0.2,\n",
    "    zoom_range=0.2,\n",
    "    horizontal_flip=True,\n",
    "    fill_mode='nearest'\n",
    ")\n",
    "\n",
    "# Example dataset (MNIST for demonstration purposes)\n",
    "(x_train, y_train), (x_val, y_val) = tf.keras.datasets.mnist.load_data()\n",
    "\n",
    "# Reshape the data to have a single channel\n",
    "x_train = x_train.reshape((x_train.shape[0], 28, 28, 1))\n",
    "x_val = x_val.reshape((x_val.shape[0], 28, 28, 1))\n"
   ]
  },
  {
   "cell_type": "code",
   "execution_count": 4,
   "id": "e8096fc2",
   "metadata": {},
   "outputs": [
    {
     "data": {
      "image/png": "[encoded data removed]",
      "text/plain": [
       "<Figure size 400x400 with 1 Axes>"
      ]
     },
     "metadata": {},
     "output_type": "display_data"
    }
   ],
   "source": [
    "\n",
    "# Visualize an example image from the dataset\n",
    "plt.figure(figsize=(4, 4))\n",
    "plt.imshow(x_train[0].reshape(28, 28), cmap='gray')  # Display the first image in grayscale\n",
    "plt.title(f'Label: {y_train[0]}')\n",
    "plt.axis('off')  # Hide axis labels\n",
    "plt.show()\n"
   ]
  },
  {
   "cell_type": "code",
   "execution_count": null,
   "id": "9c57ea64",
   "metadata": {},
   "outputs": [
    {
     "name": "stdout",
     "output_type": "stream",
     "text": [
      "Epoch 1/30\n",
      "1875/1875 [==============================] - 106s 57ms/step - loss: 1.2100 - accuracy: 0.6402 - val_loss: 0.4589 - val_accuracy: 0.8595\n",
      "Epoch 2/30\n",
      "1875/1875 [==============================] - 102s 55ms/step - loss: 0.5571 - accuracy: 0.8235 - val_loss: 0.2424 - val_accuracy: 0.9225\n",
      "Epoch 3/30\n",
      "1875/1875 [==============================] - 115s 61ms/step - loss: 0.4429 - accuracy: 0.8602 - val_loss: 0.2150 - val_accuracy: 0.9349\n",
      "Epoch 4/30\n",
      "1875/1875 [==============================] - 111s 59ms/step - loss: 0.3865 - accuracy: 0.8783 - val_loss: 0.1785 - val_accuracy: 0.9417\n",
      "Epoch 5/30\n",
      "1875/1875 [==============================] - 79s 42ms/step - loss: 0.3415 - accuracy: 0.8921 - val_loss: 0.1525 - val_accuracy: 0.9518\n",
      "Epoch 6/30\n",
      "1875/1875 [==============================] - 99s 53ms/step - loss: 0.3213 - accuracy: 0.8985 - val_loss: 0.1547 - val_accuracy: 0.9475\n",
      "Epoch 7/30\n",
      "1875/1875 [==============================] - 97s 52ms/step - loss: 0.3005 - accuracy: 0.9055 - val_loss: 0.1831 - val_accuracy: 0.9451\n",
      "Epoch 8/30\n",
      "1875/1875 [==============================] - 65s 35ms/step - loss: 0.2845 - accuracy: 0.9110 - val_loss: 0.1349 - val_accuracy: 0.9576\n",
      "Epoch 9/30\n",
      "1875/1875 [==============================] - 110s 59ms/step - loss: 0.2712 - accuracy: 0.9170 - val_loss: 0.1207 - val_accuracy: 0.9611\n",
      "Epoch 10/30\n",
      "1875/1875 [==============================] - 68s 36ms/step - loss: 0.2667 - accuracy: 0.9166 - val_loss: 0.1379 - val_accuracy: 0.9569\n",
      "Epoch 11/30\n",
      "1875/1875 [==============================] - 26s 14ms/step - loss: 0.2605 - accuracy: 0.9198 - val_loss: 0.1316 - val_accuracy: 0.9584\n",
      "Epoch 12/30\n",
      "1875/1875 [==============================] - 25s 13ms/step - loss: 0.2467 - accuracy: 0.9235 - val_loss: 0.1357 - val_accuracy: 0.9609\n",
      "Epoch 13/30\n",
      "1875/1875 [==============================] - 26s 14ms/step - loss: 0.2447 - accuracy: 0.9243 - val_loss: 0.1411 - val_accuracy: 0.9556\n",
      "Epoch 14/30\n",
      "1875/1875 [==============================] - 31s 17ms/step - loss: 0.2370 - accuracy: 0.9274 - val_loss: 0.1186 - val_accuracy: 0.9665\n",
      "Epoch 15/30\n",
      "1875/1875 [==============================] - 28s 15ms/step - loss: 0.2325 - accuracy: 0.9283 - val_loss: 0.1222 - val_accuracy: 0.9631\n",
      "Epoch 16/30\n",
      "1875/1875 [==============================] - 29s 16ms/step - loss: 0.2310 - accuracy: 0.9288 - val_loss: 0.1601 - val_accuracy: 0.9517\n",
      "Epoch 17/30\n",
      "1875/1875 [==============================] - 29s 15ms/step - loss: 0.2231 - accuracy: 0.9312 - val_loss: 0.1224 - val_accuracy: 0.9637\n",
      "Epoch 18/30\n",
      "1875/1875 [==============================] - 30s 16ms/step - loss: 0.2253 - accuracy: 0.9321 - val_loss: 0.1350 - val_accuracy: 0.9578\n",
      "Epoch 19/30\n",
      "1875/1875 [==============================] - 30s 16ms/step - loss: 0.2173 - accuracy: 0.9337 - val_loss: 0.1351 - val_accuracy: 0.9592\n",
      "Epoch 20/30\n",
      "  29/1875 [..............................] - ETA: 22s - loss: 0.1874 - accuracy: 0.9494"
     ]
    }
   ],
   "source": [
    "\n",
    "# Example model\n",
    "model = Sequential([\n",
    "    Conv2D(32, (3, 3), activation='relu', input_shape=(28, 28, 1)),\n",
    "    MaxPooling2D((2, 2)),\n",
    "    Conv2D(64, (3, 3), activation='relu'),\n",
    "    MaxPooling2D((2, 2)),\n",
    "    Flatten(),\n",
    "    Dense(128, activation='relu'),\n",
    "    Dense(10, activation='softmax')\n",
    "])\n",
    "\n",
    "model.compile(optimizer='adam', loss='sparse_categorical_crossentropy', metrics=['accuracy'])\n",
    "\n",
    "# Fit the model using the data generator\n",
    "model_history = model.fit(datagen.flow(x_train, y_train, batch_size=32), epochs=30, validation_data=(x_val, y_val))\n",
    "\n",
    "# Evaluate the model\n",
    "loss, accuracy = model.evaluate(x_val, y_val)\n",
    "print(f'Loss: {loss}, Accuracy: {accuracy}')\n",
    "\n",
    "# Display the model summary\n",
    "model.summary()\n"
   ]
  },
  {
   "cell_type": "code",
   "execution_count": null,
   "id": "dee55e2a",
   "metadata": {},
   "outputs": [],
   "source": [
    "\n",
    "# Plot training and validation loss\n",
    "loss_train = model_history.history['loss']\n",
    "loss_val = model_history.history['val_loss']\n",
    "epochs = range(1, 31)\n",
    "plt.plot(epochs, loss_train, 'g', label='Training Loss')\n",
    "plt.plot(epochs, loss_val, 'b', label='Validation Loss')\n",
    "plt.title(\"Training and Validation Loss\")\n",
    "plt.xlabel(\"Epochs\")\n",
    "plt.ylabel(\"Loss\")\n",
    "plt.legend()\n",
    "plt.show()\n",
    "\n",
    "# Plot training and validation accuracy\n",
    "train_acc = model_history.history['accuracy']\n",
    "val_acc = model_history.history['val_accuracy']\n",
    "epochs = range(1, 31)\n",
    "plt.plot(epochs, train_acc, 'g', label='Training Accuracy')\n",
    "plt.plot(epochs, val_acc, 'b', label='Validation Accuracy')\n",
    "plt.title(\"Training and Validation Accuracy\")\n",
    "plt.xlabel(\"Epochs\")\n",
    "plt.ylabel(\"Accuracy\")\n",
    "plt.legend()\n",
    "plt.show()\n",
    "\n",
    "# Example of classification report (you need to adjust 'results' and 'predicted_results' according to your context)\n",
    "results = model.predict_classes(x_val)\n",
    "predicted_results = model.predict_classes(x_val)\n",
    "Categories = [str(i) for i in range(10)]\n",
    "class_report = classification_report(results, predicted_results, target_names=Categories)\n",
    "print(\"Classification Report:\\n\", class_report)\n"
   ]
  }
 ],
 "metadata": {
  "kernelspec": {
   "display_name": "Python 3 (ipykernel)",
   "language": "python",
   "name": "python3"
  },
  "language_info": {
   "codemirror_mode": {
    "name": "ipython",
    "version": 3
   },
   "file_extension": ".py",
   "mimetype": "text/x-python",
   "name": "python",
   "nbconvert_exporter": "python",
   "pygments_lexer": "ipython3",
   "version": "3.8.19"
  }
 },
 "nbformat": 4,
 "nbformat_minor": 5
}
